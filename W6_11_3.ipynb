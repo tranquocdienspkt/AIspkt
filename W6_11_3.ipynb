{
  "nbformat": 4,
  "nbformat_minor": 0,
  "metadata": {
    "colab": {
      "provenance": [],
      "authorship_tag": "ABX9TyPuqkLFOpI3FVHIB7JHUn0L",
      "include_colab_link": true
    },
    "kernelspec": {
      "name": "python3",
      "display_name": "Python 3"
    },
    "language_info": {
      "name": "python"
    }
  },
  "cells": [
    {
      "cell_type": "markdown",
      "metadata": {
        "id": "view-in-github",
        "colab_type": "text"
      },
      "source": [
        "<a href=\"https://colab.research.google.com/github/tranquocdienspkt/AIspkt/blob/main/W6_11_3.ipynb\" target=\"_parent\"><img src=\"https://colab.research.google.com/assets/colab-badge.svg\" alt=\"Open In Colab\"/></a>"
      ]
    },
    {
      "cell_type": "code",
      "source": [
        "# pip install scikit-fuzzy"
      ],
      "metadata": {
        "colab": {
          "base_uri": "https://localhost:8080/"
        },
        "id": "s5bQr_35Rbt8",
        "outputId": "a05e4875-d2d0-48df-f2a7-c441b6be1b1c"
      },
      "execution_count": 1,
      "outputs": [
        {
          "output_type": "stream",
          "name": "stdout",
          "text": [
            "Looking in indexes: https://pypi.org/simple, https://us-python.pkg.dev/colab-wheels/public/simple/\n",
            "Collecting scikit-fuzzy\n",
            "  Downloading scikit-fuzzy-0.4.2.tar.gz (993 kB)\n",
            "\u001b[2K     \u001b[90m━━━━━━━━━━━━━━━━━━━━━━━━━━━━━━━━━━━━━━\u001b[0m \u001b[32m994.0/994.0 KB\u001b[0m \u001b[31m14.6 MB/s\u001b[0m eta \u001b[36m0:00:00\u001b[0m\n",
            "\u001b[?25h  Preparing metadata (setup.py) ... \u001b[?25l\u001b[?25hdone\n",
            "Requirement already satisfied: numpy>=1.6.0 in /usr/local/lib/python3.9/dist-packages (from scikit-fuzzy) (1.22.4)\n",
            "Requirement already satisfied: scipy>=0.9.0 in /usr/local/lib/python3.9/dist-packages (from scikit-fuzzy) (1.10.1)\n",
            "Requirement already satisfied: networkx>=1.9.0 in /usr/local/lib/python3.9/dist-packages (from scikit-fuzzy) (3.0)\n",
            "Building wheels for collected packages: scikit-fuzzy\n",
            "  Building wheel for scikit-fuzzy (setup.py) ... \u001b[?25l\u001b[?25hdone\n",
            "  Created wheel for scikit-fuzzy: filename=scikit_fuzzy-0.4.2-py3-none-any.whl size=894088 sha256=7d2dbed5320741d342c2b4672c5f12facd6260429a5d58eced892b8f2634a34a\n",
            "  Stored in directory: /root/.cache/pip/wheels/32/2c/a1/a90a7d7dd8448ec029f298a61f3490275e99b17aa348be675c\n",
            "Successfully built scikit-fuzzy\n",
            "Installing collected packages: scikit-fuzzy\n",
            "Successfully installed scikit-fuzzy-0.4.2\n"
          ]
        }
      ]
    },
    {
      "cell_type": "code",
      "execution_count": 2,
      "metadata": {
        "id": "2dfRHD75RDje"
      },
      "outputs": [],
      "source": [
        "import numpy as np\n",
        "import skfuzzy as fuzz\n",
        "from skfuzzy import control as ctrl\n",
        "import matplotlib.pyplot as plt"
      ]
    },
    {
      "cell_type": "code",
      "source": [
        "Setpoint    = ctrl.Antecedent(np.arange(18,27,1), 'Setpoint')\n",
        "Temperature = ctrl.Antecedent(np.arange(0,40,1), 'Temperature')\n",
        "Humidity    = ctrl.Antecedent(np.arange(30,80,1), 'Humidity')\n",
        "PWM         = ctrl.Consequent(np.arange(0,255,1), 'PWM')\n",
        "\n",
        "Temperature['cold'] = fuzz.trimf(Temperature.universe, [0,0,15])\n",
        "Temperature['cool'] = fuzz.trimf(Temperature.universe, [0,0,20])\n",
        "Temperature['warm'] = fuzz.trimf(Temperature.universe, [0,20,40])\n",
        "Temperature['hot'] = fuzz.trimf(Temperature.universe, [20,40,40])\n",
        "\n",
        "Setpoint['cold'] = fuzz.trimf(Setpoint.universe, [18,18,20])\n",
        "Setpoint['warm'] = fuzz.trimf(Setpoint.universe, [18,20,27])\n",
        "Setpoint['hot'] = fuzz.trimf(Setpoint.universe, [24,27,27])\n",
        "\n",
        "Humidity['low'] = fuzz.trimf(Humidity.universe, [30,30,50])\n",
        "Humidity['med'] = fuzz.trimf(Humidity.universe, [30,50,80])\n",
        "Humidity['high'] = fuzz.trimf(Humidity.universe, [50,80,80])\n",
        "\n",
        "PWM['verylow'] = fuzz.trimf(PWM.universe, [0,0,130])\n",
        "PWM['low'] = fuzz.trimf(PWM.universe, [0,0,195])\n",
        "PWM['med'] = fuzz.trimf(PWM.universe, [65,195,255])\n",
        "PWM['high'] = fuzz.trimf(PWM.universe, [195,255,255])\n",
        "\n",
        "rule1 = ctrl.Rule(Temperature['cold'] & Humidity['high'] & Setpoint['cold'], PWM['high'])\n",
        "rule2 = ctrl.Rule(Temperature['cool'] & Humidity['high'] & Setpoint['cold'], PWM['med'])\n",
        "rule3 = ctrl.Rule(Temperature['warm'] & Humidity['high'] & Setpoint['warm'], PWM['low'])\n",
        "rule4 = ctrl.Rule(Temperature['hot'] & Humidity['high'] & Setpoint['hot'], PWM['verylow'])\n",
        "\n",
        "rule5 = ctrl.Rule(Temperature['cold'] & Humidity['med'] & Setpoint['cold'], PWM['med'])\n",
        "rule6 = ctrl.Rule(Temperature['cool'] & Humidity['med'] & Setpoint['cold'], PWM['low'])\n",
        "rule7 = ctrl.Rule(Temperature['warm'] & Humidity['med'] & Setpoint['warm'], PWM['verylow'])\n",
        "rule8 = ctrl.Rule(Temperature['hot'] & Humidity['med'] & Setpoint['hot'], PWM['verylow'])\n",
        "\n",
        "rule9 = ctrl.Rule(Temperature['cold'] & Humidity['low'] & Setpoint['cold'], PWM['med'])\n",
        "rule10 = ctrl.Rule(Temperature['cool'] & Humidity['low'] & Setpoint['cold'], PWM['low'])\n",
        "rule11 = ctrl.Rule(Temperature['warm'] & Humidity['low'] & Setpoint['warm'], PWM['verylow'])\n",
        "rule12 = ctrl.Rule(Temperature['hot'] & Humidity['low'] & Setpoint['hot'], PWM['verylow'])\n",
        "\n",
        "PWMCtrl = ctrl.ControlSystem([rule1,rule2,rule3,rule4,rule5,rule6,rule7,rule8,rule9,rule10,rule11,rule12])\n",
        "PWMCtrl = ctrl.ControlSystemSimulation(PWMCtrl)\n",
        "\n",
        "PWMCtrl.input['Temperature'] = 10\n",
        "PWMCtrl.input['Setpoint'] = 19\n",
        "PWMCtrl.input['Humidity'] = 35\n",
        "\n",
        "PWMCtrl.compute()\n",
        "\n",
        "print(PWMCtrl.output['PWM'])\n",
        "PWM.view(sim = PWMCtrl)"
      ],
      "metadata": {
        "colab": {
          "base_uri": "https://localhost:8080/",
          "height": 298
        },
        "id": "z8_Rm3kfRsG0",
        "outputId": "d6984310-81d1-4c7c-8b0b-72ffb3d8e6a5"
      },
      "execution_count": 24,
      "outputs": [
        {
          "output_type": "stream",
          "name": "stdout",
          "text": [
            "110.25204295731922\n"
          ]
        },
        {
          "output_type": "display_data",
          "data": {
            "text/plain": [
              "<Figure size 432x288 with 1 Axes>"
            ],
            "image/png": "[encoded data removed]"
          },
          "metadata": {
            "needs_background": "light"
          }
        }
      ]
    },
    {
      "cell_type": "code",
      "source": [
        "L = ctrl.Antecedent(np.arange(0,150,1), 'L')\n",
        "C = ctrl.Antecedent(np.arange(0,150,1), 'C')\n",
        "R = ctrl.Antecedent(np.arange(0,150,1), 'R')\n",
        "LC   = ctrl.Consequent(np.arange(0,90,1), 'LC')\n",
        "RC   = ctrl.Consequent(np.arange(-90,0,1), 'PWM')\n",
        "PWM_L  = ctrl.Consequent(np.arange(0,255,1), 'PWM_L')\n",
        "PWM_R  = ctrl.Consequent(np.arange(0,255,1), 'PWM_L')\n",
        "\n",
        "L['c']   = fuzz.trimf(L.universe, [0,0,75])\n",
        "L['med'] = fuzz.trimf(L.universe, [0,75,150])\n",
        "L['f']   = fuzz.trimf(L.universe, [75,150,150])\n",
        "\n",
        "C['c']   = fuzz.trimf(C.universe, [0,0,75])\n",
        "C['med'] = fuzz.trimf(C.universe, [0,75,150])\n",
        "C['f']   = fuzz.trimf(C.universe, [75,150,150])\n",
        "\n",
        "R['c']   = fuzz.trimf(R.universe, [0,0,75])\n",
        "R['med'] = fuzz.trimf(R.universe, [0,75,150])\n",
        "R['f']   = fuzz.trimf(R.universe, [75,150,150])\n",
        "\n",
        "LC['s']  = fuzz.trimf(LC.universe, [0,0,45]) \n",
        "LC['m']  = fuzz.trimf(LC.universe, [0,45,90]) \n",
        "LC['b']  = fuzz.trimf(LC.universe, [45,90,90]) \n",
        "\n",
        "RC['b']  = fuzz.trimf(RC.universe, [-90,-90,-45]) \n",
        "RC['m']  = fuzz.trimf(RC.universe, [-90,-45,0]) \n",
        "RC['s']  = fuzz.trimf(RC.universe, [-45,0,0]) \n",
        "\n",
        "PWM_L['low'] = fuzz.trimf(PWM_L.universe, [0,0,125])\n",
        "PWM_L['med'] = fuzz.trimf(PWM_L.universe, [0,125,255])\n",
        "PWM_L['f'] = fuzz.trimf(PWM_L.universe, [125,255,255])\n",
        "\n",
        "PWM_R['low'] = fuzz.trimf(PWM_R.universe, [0,0,125])\n",
        "PWM_R['med'] = fuzz.trimf(PWM_R.universe, [0,125,255])\n",
        "PWM_R['f'] = fuzz.trimf(PWM_R.universe, [125,255,255])\n",
        "\n",
        "rule1 = ctrl.Rule(L['c'] & C['c'], LC['s'])\n",
        "rule2 = ctrl.Rule(L['med'] & C['c'], LC['s'])\n",
        "rule3 = ctrl.Rule(L['f'] & C['c'], LC['s'])\n",
        "rule4 = ctrl.Rule(L['c'] & C['med'], LC['m'])\n",
        "rule5 = ctrl.Rule(L['med'] & C['med'], LC['m'])\n",
        "rule6 = ctrl.Rule(L['f'] & C['med'], LC['m'])\n",
        "rule7 = ctrl.Rule(L['c'] & C['f'], LC['b'])\n",
        "rule8 = ctrl.Rule(L['med'] & C['f'], LC['m'])\n",
        "\n",
        "rule9 = ctrl.Rule(R['c'] & C['c'], RC['b'])\n",
        "rule10 = ctrl.Rule(R['med'] & C['c'], RC['b'])\n",
        "rule11 = ctrl.Rule(R['f'] & C['c'], RC['b'])\n",
        "rule12 = ctrl.Rule(R['c'] & C['med'], RC['m'])\n",
        "rule13 = ctrl.Rule(R['med'] & C['med'], RC['m'])\n",
        "rule14 = ctrl.Rule(R['f'] & C['med'], RC['m'])\n",
        "rule15 = ctrl.Rule(R['c'] & C['f'], RC['s'])\n",
        "rule16 = ctrl.Rule(R['med'] & C['f'], RC['m'])\n",
        "\n",
        "rule17 = ctrl.Rule(LC['s'], PWM_L['f'] & PWM_R['med'])\n",
        "rule18 = ctrl.Rule(LC['m'], PWM_L['f'] & PWM_R['med'])\n",
        "rule19 = ctrl.Rule(LC['b'], PWM_L['med'] & PWM_R['low'])\n",
        "\n",
        "rule20 = ctrl.Rule(RC['s'], PWM_L['med'] & PWM_R['f'])\n",
        "rule21 = ctrl.Rule(RC['m'], PWM_L['med'] & PWM_R['f'])\n",
        "rule22 = ctrl.Rule(RC['b'], PWM_L['low'] & PWM_R['med'])\n",
        "\n",
        "rule23 = ctrl.Rule(LC['s'] & RC ['s'], PWM_L['f'] & PWM_R['f'])\n",
        "\n",
        "\n",
        "PWM_Ctrl = ctrl.ControlSystem([rule1,rule2,rule3,rule4,rule5,rule6,rule7,rule8,rule9,rule10,\n",
        "                                 rule11,rule12,rule13,rule14,rule15,rule16,rule17,rule18,rule19,rule20,rule21,rule22,rule23])\n",
        "\n",
        "PWM_Ctrl1 = ctrl.ControlSystemSimulation(PWM_Ctrl)\n",
        "PWM_Ctrl2 = ctrl.ControlSystemSimulation(PWM_Ctrl)\n",
        "\n",
        "PWM_Ctrl1.input['L'] = 30\n",
        "PWM_Ctrl1.input['C'] = 30\n",
        "PWM_Ctrl1.input['R'] = 255\n",
        "PWM_Ctrl2.input['L'] = 30\n",
        "PWM_Ctrl2.input['C'] = 30\n",
        "PWM_Ctrl2.input['R'] = 255\n",
        "\n",
        "PWM_Ctrl1.compute()\n",
        "PWM_Ctrl2.compute()\n",
        "\n",
        "print(PWM_Ctrl1.output['PWM_R'])\n",
        "print(PWM_Ctrl2.output['PWM_L'])\n",
        "\n"
      ],
      "metadata": {
        "colab": {
          "base_uri": "https://localhost:8080/",
          "height": 380
        },
        "id": "itnJ_QB8ilDS",
        "outputId": "11db9e20-11b5-4271-ed77-58f561ee7f4a"
      },
      "execution_count": 36,
      "outputs": [
        {
          "output_type": "error",
          "ename": "ValueError",
          "evalue": "ignored",
          "traceback": [
            "\u001b[0;31m---------------------------------------------------------------------------\u001b[0m",
            "\u001b[0;31mValueError\u001b[0m                                Traceback (most recent call last)",
            "\u001b[0;32m<ipython-input-36-6e3a7b3b4134>\u001b[0m in \u001b[0;36m<module>\u001b[0;34m\u001b[0m\n\u001b[1;32m     53\u001b[0m \u001b[0mrule16\u001b[0m \u001b[0;34m=\u001b[0m \u001b[0mctrl\u001b[0m\u001b[0;34m.\u001b[0m\u001b[0mRule\u001b[0m\u001b[0;34m(\u001b[0m\u001b[0mR\u001b[0m\u001b[0;34m[\u001b[0m\u001b[0;34m'med'\u001b[0m\u001b[0;34m]\u001b[0m \u001b[0;34m&\u001b[0m \u001b[0mC\u001b[0m\u001b[0;34m[\u001b[0m\u001b[0;34m'f'\u001b[0m\u001b[0;34m]\u001b[0m\u001b[0;34m,\u001b[0m \u001b[0mRC\u001b[0m\u001b[0;34m[\u001b[0m\u001b[0;34m'm'\u001b[0m\u001b[0;34m]\u001b[0m\u001b[0;34m)\u001b[0m\u001b[0;34m\u001b[0m\u001b[0;34m\u001b[0m\u001b[0m\n\u001b[1;32m     54\u001b[0m \u001b[0;34m\u001b[0m\u001b[0m\n\u001b[0;32m---> 55\u001b[0;31m \u001b[0mrule17\u001b[0m \u001b[0;34m=\u001b[0m \u001b[0mctrl\u001b[0m\u001b[0;34m.\u001b[0m\u001b[0mRule\u001b[0m\u001b[0;34m(\u001b[0m\u001b[0mLC\u001b[0m\u001b[0;34m[\u001b[0m\u001b[0;34m's'\u001b[0m\u001b[0;34m]\u001b[0m\u001b[0;34m,\u001b[0m \u001b[0mPWM_L\u001b[0m\u001b[0;34m[\u001b[0m\u001b[0;34m'f'\u001b[0m\u001b[0;34m]\u001b[0m \u001b[0;34m&\u001b[0m \u001b[0mPWM_R\u001b[0m\u001b[0;34m[\u001b[0m\u001b[0;34m'med'\u001b[0m\u001b[0;34m]\u001b[0m\u001b[0;34m)\u001b[0m\u001b[0;34m\u001b[0m\u001b[0;34m\u001b[0m\u001b[0m\n\u001b[0m\u001b[1;32m     56\u001b[0m \u001b[0mrule18\u001b[0m \u001b[0;34m=\u001b[0m \u001b[0mctrl\u001b[0m\u001b[0;34m.\u001b[0m\u001b[0mRule\u001b[0m\u001b[0;34m(\u001b[0m\u001b[0mLC\u001b[0m\u001b[0;34m[\u001b[0m\u001b[0;34m'm'\u001b[0m\u001b[0;34m]\u001b[0m\u001b[0;34m,\u001b[0m \u001b[0mPWM_L\u001b[0m\u001b[0;34m[\u001b[0m\u001b[0;34m'f'\u001b[0m\u001b[0;34m]\u001b[0m \u001b[0;34m&\u001b[0m \u001b[0mPWM_R\u001b[0m\u001b[0;34m[\u001b[0m\u001b[0;34m'med'\u001b[0m\u001b[0;34m]\u001b[0m\u001b[0;34m)\u001b[0m\u001b[0;34m\u001b[0m\u001b[0;34m\u001b[0m\u001b[0m\n\u001b[1;32m     57\u001b[0m \u001b[0mrule19\u001b[0m \u001b[0;34m=\u001b[0m \u001b[0mctrl\u001b[0m\u001b[0;34m.\u001b[0m\u001b[0mRule\u001b[0m\u001b[0;34m(\u001b[0m\u001b[0mLC\u001b[0m\u001b[0;34m[\u001b[0m\u001b[0;34m'b'\u001b[0m\u001b[0;34m]\u001b[0m\u001b[0;34m,\u001b[0m \u001b[0mPWM_L\u001b[0m\u001b[0;34m[\u001b[0m\u001b[0;34m'med'\u001b[0m\u001b[0;34m]\u001b[0m \u001b[0;34m&\u001b[0m \u001b[0mPWM_R\u001b[0m\u001b[0;34m[\u001b[0m\u001b[0;34m'low'\u001b[0m\u001b[0;34m]\u001b[0m\u001b[0;34m)\u001b[0m\u001b[0;34m\u001b[0m\u001b[0;34m\u001b[0m\u001b[0m\n",
            "\u001b[0;32m/usr/local/lib/python3.9/dist-packages/skfuzzy/control/rule.py\u001b[0m in \u001b[0;36m__init__\u001b[0;34m(self, antecedent, consequent, label, and_func, or_func)\u001b[0m\n\u001b[1;32m     89\u001b[0m             \u001b[0mself\u001b[0m\u001b[0;34m.\u001b[0m\u001b[0mantecedent\u001b[0m \u001b[0;34m=\u001b[0m \u001b[0mantecedent\u001b[0m\u001b[0;34m\u001b[0m\u001b[0;34m\u001b[0m\u001b[0m\n\u001b[1;32m     90\u001b[0m         \u001b[0;32mif\u001b[0m \u001b[0mconsequent\u001b[0m \u001b[0;32mis\u001b[0m \u001b[0;32mnot\u001b[0m \u001b[0;32mNone\u001b[0m\u001b[0;34m:\u001b[0m\u001b[0;34m\u001b[0m\u001b[0;34m\u001b[0m\u001b[0m\n\u001b[0;32m---> 91\u001b[0;31m             \u001b[0mself\u001b[0m\u001b[0;34m.\u001b[0m\u001b[0mconsequent\u001b[0m \u001b[0;34m=\u001b[0m \u001b[0mconsequent\u001b[0m\u001b[0;34m\u001b[0m\u001b[0;34m\u001b[0m\u001b[0m\n\u001b[0m\u001b[1;32m     92\u001b[0m \u001b[0;34m\u001b[0m\u001b[0m\n\u001b[1;32m     93\u001b[0m         \u001b[0;32mif\u001b[0m \u001b[0mlabel\u001b[0m \u001b[0;32mis\u001b[0m \u001b[0;32mnot\u001b[0m \u001b[0;32mNone\u001b[0m\u001b[0;34m:\u001b[0m\u001b[0;34m\u001b[0m\u001b[0;34m\u001b[0m\u001b[0m\n",
            "\u001b[0;32m/usr/local/lib/python3.9/dist-packages/skfuzzy/control/rule.py\u001b[0m in \u001b[0;36mconsequent\u001b[0;34m(self, value)\u001b[0m\n\u001b[1;32m    219\u001b[0m \u001b[0;34m\u001b[0m\u001b[0m\n\u001b[1;32m    220\u001b[0m         \u001b[0;32melif\u001b[0m \u001b[0;32mnot\u001b[0m \u001b[0mhasattr\u001b[0m\u001b[0;34m(\u001b[0m\u001b[0mvalue\u001b[0m\u001b[0;34m,\u001b[0m \u001b[0;34m'__iter__'\u001b[0m\u001b[0;34m)\u001b[0m\u001b[0;34m:\u001b[0m\u001b[0;34m\u001b[0m\u001b[0;34m\u001b[0m\u001b[0m\n\u001b[0;32m--> 221\u001b[0;31m             \u001b[0;32mraise\u001b[0m \u001b[0mValueError\u001b[0m\u001b[0;34m(\u001b[0m\u001b[0;34m\"Unexpected consequent type\"\u001b[0m\u001b[0;34m)\u001b[0m\u001b[0;34m\u001b[0m\u001b[0;34m\u001b[0m\u001b[0m\n\u001b[0m\u001b[1;32m    222\u001b[0m \u001b[0;34m\u001b[0m\u001b[0m\n\u001b[1;32m    223\u001b[0m         \u001b[0;32melse\u001b[0m\u001b[0;34m:\u001b[0m\u001b[0;34m\u001b[0m\u001b[0;34m\u001b[0m\u001b[0m\n",
            "\u001b[0;31mValueError\u001b[0m: Unexpected consequent type"
          ]
        }
      ]
    }
  ]
}