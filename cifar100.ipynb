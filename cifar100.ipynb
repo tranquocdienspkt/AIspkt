{
  "nbformat": 4,
  "nbformat_minor": 0,
  "metadata": {
    "colab": {
      "provenance": [],
      "authorship_tag": "ABX9TyMHp6dchq7c2bpnbkG/vvIB",
      "include_colab_link": true
    },
    "kernelspec": {
      "name": "python3",
      "display_name": "Python 3"
    },
    "language_info": {
      "name": "python"
    }
  },
  "cells": [
    {
      "cell_type": "markdown",
      "metadata": {
        "id": "view-in-github",
        "colab_type": "text"
      },
      "source": [
        "<a href=\"https://colab.research.google.com/github/tranquocdienspkt/AIspkt/blob/main/cifar100.ipynb\" target=\"_parent\"><img src=\"https://colab.research.google.com/assets/colab-badge.svg\" alt=\"Open In Colab\"/></a>"
      ]
    },
    {
      "cell_type": "code",
      "execution_count": 3,
      "metadata": {
        "colab": {
          "base_uri": "https://localhost:8080/"
        },
        "id": "A2rpBdXD8q30",
        "outputId": "407b6c5b-fffd-4e69-f280-e4306cec39f8"
      },
      "outputs": [
        {
          "output_type": "stream",
          "name": "stdout",
          "text": [
            "Model: \"sequential\"\n",
            "_________________________________________________________________\n",
            " Layer (type)                Output Shape              Param #   \n",
            "=================================================================\n",
            " dense (Dense)               (None, 512)               1573376   \n",
            "                                                                 \n",
            " dense_1 (Dense)             (None, 100)               51300     \n",
            "                                                                 \n",
            "=================================================================\n",
            "Total params: 1,624,676\n",
            "Trainable params: 1,624,676\n",
            "Non-trainable params: 0\n",
            "_________________________________________________________________\n"
          ]
        },
        {
          "output_type": "execute_result",
          "data": {
            "text/plain": [
              "(10000, 32, 32, 3)"
            ]
          },
          "metadata": {},
          "execution_count": 3
        }
      ],
      "source": [
        "from keras.datasets import cifar100\n",
        "import numpy as np\n",
        "from keras.models import Sequential\n",
        "from keras.layers import Dense\n",
        "\n",
        "(x_train, y_train), (x_test, y_test) = cifar100.load_data()\n",
        "\n",
        "\n",
        "model = Sequential()\n",
        "model.add(Dense(512, activation = 'relu', input_shape = (3072,)))\n",
        "\n",
        "model.add(Dense(100, activation = 'softmax'))\n",
        "\n",
        "model.summary()\n",
        "\n",
        "x_test.shape"
      ]
    },
    {
      "cell_type": "code",
      "source": [
        "x_train = x_train.reshape(50000,32*32*3)\n",
        "x_train = x_train.astype('float32')/255\n",
        "\n",
        "x_test = x_test.reshape(10000,32*32*3)\n",
        "x_test = x_test.astype('float32')/255"
      ],
      "metadata": {
        "id": "NUq0N9h99gcH"
      },
      "execution_count": 4,
      "outputs": []
    },
    {
      "cell_type": "code",
      "source": [
        "from keras.utils import  to_categorical\n",
        "\n",
        "y_train = to_categorical(y_train,100)\n",
        "y_test = to_categorical(y_test,100)\n",
        "\n",
        "y_test.shape"
      ],
      "metadata": {
        "colab": {
          "base_uri": "https://localhost:8080/"
        },
        "id": "z6PPjxqe97Nf",
        "outputId": "0452dab7-1b78-4f4f-aae3-9c6f153f1d4c"
      },
      "execution_count": 5,
      "outputs": [
        {
          "output_type": "execute_result",
          "data": {
            "text/plain": [
              "(10000, 100)"
            ]
          },
          "metadata": {},
          "execution_count": 5
        }
      ]
    },
    {
      "cell_type": "code",
      "source": [
        "model.compile(optimizer = 'rmsprop', loss = 'categorical_crossentropy', metrics = ['accuracy'])\n",
        "\n",
        "model.fit(x_train, y_train, epochs = 30, batch_size = 128)\n",
        "\n",
        "test_loss1, test_acc1 = model.evaluate(x_test, y_test)\n",
        "\n",
        "\n",
        "\n",
        "print('Mat mat: ', test_loss1)\n",
        "print('Do chinh xac: ', test_acc1)"
      ],
      "metadata": {
        "colab": {
          "base_uri": "https://localhost:8080/"
        },
        "id": "NL6qXn0E-NdL",
        "outputId": "a1c4c7f5-e205-48e4-a987-3e0a7dd4648f"
      },
      "execution_count": 10,
      "outputs": [
        {
          "output_type": "stream",
          "name": "stdout",
          "text": [
            "Epoch 1/30\n",
            "391/391 [==============================] - 8s 20ms/step - loss: 1.9831 - accuracy: 0.5028\n",
            "Epoch 2/30\n",
            "391/391 [==============================] - 8s 20ms/step - loss: 1.9525 - accuracy: 0.5085\n",
            "Epoch 3/30\n",
            "391/391 [==============================] - 7s 19ms/step - loss: 1.9443 - accuracy: 0.5063\n",
            "Epoch 4/30\n",
            "391/391 [==============================] - 8s 21ms/step - loss: 1.9382 - accuracy: 0.5113\n",
            "Epoch 5/30\n",
            "391/391 [==============================] - 8s 21ms/step - loss: 1.9337 - accuracy: 0.5127\n",
            "Epoch 6/30\n",
            "391/391 [==============================] - 7s 19ms/step - loss: 1.9354 - accuracy: 0.5127\n",
            "Epoch 7/30\n",
            "391/391 [==============================] - 8s 20ms/step - loss: 1.9285 - accuracy: 0.5133\n",
            "Epoch 8/30\n",
            "391/391 [==============================] - 8s 20ms/step - loss: 1.9194 - accuracy: 0.5139\n",
            "Epoch 9/30\n",
            "391/391 [==============================] - 7s 19ms/step - loss: 1.9160 - accuracy: 0.5182\n",
            "Epoch 10/30\n",
            "391/391 [==============================] - 8s 20ms/step - loss: 1.9057 - accuracy: 0.5206\n",
            "Epoch 11/30\n",
            "391/391 [==============================] - 8s 20ms/step - loss: 1.9039 - accuracy: 0.5195\n",
            "Epoch 12/30\n",
            "391/391 [==============================] - 8s 19ms/step - loss: 1.8892 - accuracy: 0.5231\n",
            "Epoch 13/30\n",
            "391/391 [==============================] - 8s 20ms/step - loss: 1.8856 - accuracy: 0.5222\n",
            "Epoch 14/30\n",
            "391/391 [==============================] - 8s 19ms/step - loss: 1.8832 - accuracy: 0.5239\n",
            "Epoch 15/30\n",
            "391/391 [==============================] - 8s 20ms/step - loss: 1.8980 - accuracy: 0.5200\n",
            "Epoch 16/30\n",
            "391/391 [==============================] - 8s 20ms/step - loss: 1.8815 - accuracy: 0.5235\n",
            "Epoch 17/30\n",
            "391/391 [==============================] - 7s 19ms/step - loss: 1.8642 - accuracy: 0.5282\n",
            "Epoch 18/30\n",
            "391/391 [==============================] - 9s 22ms/step - loss: 1.8631 - accuracy: 0.5255\n",
            "Epoch 19/30\n",
            "391/391 [==============================] - 8s 21ms/step - loss: 1.8610 - accuracy: 0.5284\n",
            "Epoch 20/30\n",
            "391/391 [==============================] - 7s 19ms/step - loss: 1.8610 - accuracy: 0.5288\n",
            "Epoch 21/30\n",
            "391/391 [==============================] - 8s 21ms/step - loss: 1.8515 - accuracy: 0.5299\n",
            "Epoch 22/30\n",
            "391/391 [==============================] - 8s 21ms/step - loss: 1.8463 - accuracy: 0.5310\n",
            "Epoch 23/30\n",
            "391/391 [==============================] - 7s 19ms/step - loss: 1.8409 - accuracy: 0.5347\n",
            "Epoch 24/30\n",
            "391/391 [==============================] - 8s 20ms/step - loss: 1.8329 - accuracy: 0.5365\n",
            "Epoch 25/30\n",
            "391/391 [==============================] - 8s 20ms/step - loss: 1.8324 - accuracy: 0.5349\n",
            "Epoch 26/30\n",
            "391/391 [==============================] - 7s 19ms/step - loss: 1.8316 - accuracy: 0.5378\n",
            "Epoch 27/30\n",
            "391/391 [==============================] - 8s 20ms/step - loss: 1.8200 - accuracy: 0.5380\n",
            "Epoch 28/30\n",
            "391/391 [==============================] - 8s 21ms/step - loss: 1.8150 - accuracy: 0.5416\n",
            "Epoch 29/30\n",
            "391/391 [==============================] - 7s 19ms/step - loss: 1.8185 - accuracy: 0.5374\n",
            "Epoch 30/30\n",
            "391/391 [==============================] - 8s 21ms/step - loss: 1.8041 - accuracy: 0.5420\n",
            "313/313 [==============================] - 1s 4ms/step - loss: 6.9295 - accuracy: 0.1721\n",
            "Mat mat:  6.929487705230713\n",
            "Do chinh xac:  0.1720999926328659\n"
          ]
        }
      ]
    }
  ]
}