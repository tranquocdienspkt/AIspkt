{
  "nbformat": 4,
  "nbformat_minor": 0,
  "metadata": {
    "colab": {
      "provenance": [],
      "authorship_tag": "ABX9TyNdQTxiRk8vlQExbkYk9cEt",
      "include_colab_link": true
    },
    "kernelspec": {
      "name": "python3",
      "display_name": "Python 3"
    },
    "language_info": {
      "name": "python"
    }
  },
  "cells": [
    {
      "cell_type": "markdown",
      "metadata": {
        "id": "view-in-github",
        "colab_type": "text"
      },
      "source": [
        "<a href=\"https://colab.research.google.com/github/tranquocdienspkt/AIspkt/blob/main/FuzzyLogic_HW.ipynb\" target=\"_parent\"><img src=\"https://colab.research.google.com/assets/colab-badge.svg\" alt=\"Open In Colab\"/></a>"
      ]
    },
    {
      "cell_type": "code",
      "execution_count": 3,
      "metadata": {
        "id": "t9XpRrjF75nt"
      },
      "outputs": [],
      "source": [
        "# pip install scikit-fuzzy\n",
        "import numpy as np\n",
        "import skfuzzy as fuzz\n",
        "from skfuzzy import control as ctrl\n",
        "import matplotlib.pyplot as plt"
      ]
    },
    {
      "cell_type": "code",
      "source": [
        "Fever = ctrl.Antecedent(np.arange(0,1.1,0.1), \"Fever\")\n",
        "Headache = ctrl.Antecedent(np.arange(0,1.1,0.1), \"Headache\")\n",
        "Nausea = ctrl.Antecedent(np.arange(0,1.1,0.1), \"Nausea\")\n",
        "Vomiting = ctrl.Antecedent(np.arange(0,1.1,0.1), \"Vomiting\")\n",
        "Jaundice = ctrl.Antecedent(np.arange(0,1.1,0.1), \"Jaundice\")\n",
        "Enlarge_Liver = ctrl.Antecedent(np.arange(0,1.1,0.1), \"Enlarge Liver\")\n",
        "Join_Pain = ctrl.Antecedent(np.arange(0,1.1,0.1), \"Join Pain\")\n",
        "Body_Weakness = ctrl.Antecedent(np.arange(0,1.1,0.1), \"Body Weakness\")\n",
        "Dizziness = ctrl.Antecedent(np.arange(0,1.1,0.1), \"Dizziness\")\n",
        "Loss_of_Appetite = ctrl.Antecedent(np.arange(0,1.1,0.1), \"Loss of Appetite\")\n",
        "MP = ctrl.Antecedent(np.arange(0,1.1,0.1), \"MP\")\n",
        "Malaria = ctrl.Consequent(np.arange(0,1.1,0.1), \"Malaria\")\n",
        "\n",
        "Fever['Minor'] = fuzz.trimf(Fever.universe, [0,0.5,0.5])\n",
        "Fever['Moderate'] = fuzz.trimf(Fever.universe, [0,0.75,0.75])\n",
        "Fever['Severe'] = fuzz.trimf(Fever.universe, [0,0.9,0.9])\n",
        "Fever['Very Severe'] = fuzz.trimf(Fever.universe, [0,1,1])\n",
        "Headache['Minor'] = fuzz.trimf(Headache.universe, [0,0.5,0.5])\n",
        "Headache['Moderate'] = fuzz.trimf(Headache.universe, [0,0.75,0.75])\n",
        "Headache['Severe'] = fuzz.trimf(Headache.universe, [0,0.9,0.9])\n",
        "Headache['Very Severe'] = fuzz.trimf(Headache.universe, [0,1,1])\n",
        "Nausea['Minor'] = fuzz.trimf(Nausea.universe, [0,0.5,0.5])\n",
        "Nausea['Moderate'] = fuzz.trimf(Nausea.universe, [0,0.75,0.75])\n",
        "Nausea['Severe'] = fuzz.trimf(Nausea.universe, [0,0.9,0.9])\n",
        "Nausea['Very Severe'] = fuzz.trimf(Nausea.universe, [0,1,1])\n",
        "Vomiting['Minor'] = fuzz.trimf(Vomiting.universe, [0,0.5,0.5]) \n",
        "Vomiting['Moderate'] = fuzz.trimf(Vomiting.universe, [0,0.75,0.75])\n",
        "Vomiting['Severe'] = fuzz.trimf(Vomiting.universe, [0,0.9,0.9])\n",
        "Vomiting['Very Severe'] = fuzz.trimf(Vomiting.universe, [0,1,1])\n",
        "Jaundice['Minor'] = fuzz.trimf(Jaundice.universe, [0,0.5,0.5])\n",
        "Jaundice['Moderate'] = fuzz.trimf(Jaundice.universe, [0,0.75,0.75])\n",
        "Jaundice['Severe'] = fuzz.trimf(Jaundice.universe, [0,0.9,0.9])\n",
        "Jaundice['Very Severe'] = fuzz.trimf(Jaundice.universe, [0,1,1])\n",
        "Enlarge_Liver['Minor'] = fuzz.trimf(Enlarge_Liver.universe, [0,0.5,0.5])\n",
        "Enlarge_Liver['Moderate'] = fuzz.trimf(Enlarge_Liver.universe, [0,0.75,0.75])\n",
        "Enlarge_Liver['Severe'] = fuzz.trimf(Enlarge_Liver.universe, [0,0.9,0.9])\n",
        "Enlarge_Liver['Very Severe'] = fuzz.trimf(Enlarge_Liver.universe, [0,1,1])\n",
        "Join_Pain['Minor'] = fuzz.trimf(Join_Pain.universe, [0,0.5,0.5])\n",
        "Join_Pain['Moderate'] = fuzz.trimf(Join_Pain.universe, [0,0.75,0.75])\n",
        "Join_Pain['Severe'] = fuzz.trimf(Join_Pain.universe, [0,0.9,0.9])\n",
        "Join_Pain['Very Severe'] = fuzz.trimf(Join_Pain.universe, [0,1,1])\n",
        "Body_Weakness['Minor'] = fuzz.trimf(Body_Weakness.universe, [0,0.5,0.5])\n",
        "Body_Weakness['Moderate'] = fuzz.trimf(Body_Weakness.universe, [0,0.75,0.75])\n",
        "Body_Weakness['Severe'] = fuzz.trimf(Body_Weakness.universe, [0,0.9,0.9])\n",
        "Body_Weakness['Very Severe'] = fuzz.trimf(Body_Weakness.universe, [0,1,1])\n",
        "Dizziness['Minor'] = fuzz.trimf(Dizziness.universe, [0,0.5,0.5])\n",
        "Dizziness['Moderate'] = fuzz.trimf(Dizziness.universe, [0,0.75,0.75])\n",
        "Dizziness['Severe'] = fuzz.trimf(Dizziness.universe, [0,0.9,0.9])\n",
        "Dizziness['Very Severe'] = fuzz.trimf(Dizziness.universe, [0,1,1])\n",
        "Loss_of_Appetite['Minor'] = fuzz.trimf(Loss_of_Appetite.universe, [0,0.5,0.5])\n",
        "Loss_of_Appetite['Moderate'] = fuzz.trimf(Loss_of_Appetite.universe, [0,0.75,0.75])\n",
        "Loss_of_Appetite['Severe'] = fuzz.trimf(Loss_of_Appetite.universe, [0,0.9,0.9])\n",
        "Loss_of_Appetite['Very Severe'] = fuzz.trimf(Loss_of_Appetite.universe, [0,1,1])\n",
        "MP['Minor'] = fuzz.trimf(MP.universe, [0,0.5,0.5])\n",
        "MP['Moderate'] = fuzz.trimf(MP.universe, [0,0.75,0.75])\n",
        "MP['Severe'] = fuzz.trimf(MP.universe, [0,0.9,0.9])\n",
        "MP['Very Severe'] = fuzz.trimf(MP.universe, [0,1,1])\n",
        "Malaria['Minor'] = fuzz.trimf(Malaria.universe, [0,0.3,0.3])\n",
        "Malaria['Moderate'] = fuzz.trimf(Malaria.universe, [0.3,0.6,0.6])\n",
        "Malaria['Severe'] = fuzz.trimf(Malaria.universe, [0.6,0.8,0.8])\n",
        "Malaria['Very Severe'] = fuzz.trimf(Malaria.universe, [0.8,1,1])\n",
        "\n",
        "rule1 = ctrl.Rule(Fever['Minor'] & Headache['Minor']& Nausea['Minor'] & Vomiting['Minor'] & Jaundice['Minor'] & Enlarge_Liver['Minor'] & Join_Pain['Minor'] \n",
        "                  & Body_Weakness['Minor'] & Dizziness['Severe'] & Loss_of_Appetite['Minor'] & MP['Minor'], Malaria['Minor'])\n",
        "rule2 = ctrl.Rule(Fever['Moderate'] & Headache['Minor']& Nausea['Minor'] & Vomiting['Minor'] & Jaundice['Minor'] & Enlarge_Liver['Minor'] & Join_Pain['Moderate'] \n",
        "                  & Body_Weakness['Moderate'] & Dizziness['Severe'] & Loss_of_Appetite['Severe'] & MP['Moderate'], Malaria['Moderate'])\n",
        "rule3 = ctrl.Rule(Fever['Severe'] & Headache['Moderate']& Nausea['Minor'] & Vomiting['Minor'] & Jaundice['Minor'] & Enlarge_Liver['Minor'] & Join_Pain['Minor'] \n",
        "                  & Body_Weakness['Severe'] & Dizziness['Severe'] & Loss_of_Appetite['Severe'] & MP['Moderate'], Malaria['Severe'])\n",
        "rule4 = ctrl.Rule(Fever['Very Severe'] & Headache['Moderate']& Nausea['Minor'] & Vomiting['Minor'] & Jaundice['Minor'] & Enlarge_Liver['Minor'] & Join_Pain['Severe'] \n",
        "                  & Body_Weakness['Severe'] & Dizziness['Minor'] & Loss_of_Appetite['Minor'] & MP['Severe'], Malaria['Very Severe'])\n",
        "rule5 = ctrl.Rule(Fever['Moderate'] & Headache['Minor']& Nausea['Minor'] & Vomiting['Moderate'] & Jaundice['Minor'] & Enlarge_Liver['Minor'] & Join_Pain['Moderate'] \n",
        "                  & Body_Weakness['Moderate'] & Dizziness['Moderate'] & Loss_of_Appetite['Severe'] & MP['Moderate'], Malaria['Moderate'])\n",
        "rule6 = ctrl.Rule(Fever['Minor'] & Headache['Moderate']& Nausea['Moderate'] & Vomiting['Minor'] & Jaundice['Minor'] & Enlarge_Liver['Minor'] & Join_Pain['Minor'] \n",
        "                  & Body_Weakness['Minor'] & Dizziness['Moderate'] & Loss_of_Appetite['Minor'] & MP['Minor'], Malaria['Minor'])\n",
        "rule7 = ctrl.Rule(Fever['Minor'] & Headache['Minor']& Nausea['Moderate'] & Vomiting['Moderate'] & Jaundice['Minor'] & Enlarge_Liver['Minor'] & Join_Pain['Severe'] \n",
        "                  & Body_Weakness['Severe'] & Dizziness['Moderate'] & Loss_of_Appetite['Moderate'] & MP['Moderate'], Malaria['Severe'])\n",
        "rule8 = ctrl.Rule(Fever['Moderate'] & Headache['Moderate']& Nausea['Moderate'] & Vomiting['Moderate'] & Jaundice['Moderate'] & Enlarge_Liver['Moderate'] & Join_Pain['Moderate'] \n",
        "                  & Body_Weakness['Moderate'] & Dizziness['Moderate'] & Loss_of_Appetite['Moderate'] & MP['Moderate'], Malaria['Moderate'])\n",
        "rule9 = ctrl.Rule(Fever['Moderate'] & Headache['Minor']& Nausea['Moderate'] & Vomiting['Moderate'] & Jaundice['Severe'] & Enlarge_Liver['Severe'] & Join_Pain['Moderate'] \n",
        "                  & Body_Weakness['Moderate'] & Dizziness['Severe'] & Loss_of_Appetite['Moderate'] & MP['Moderate'], Malaria['Moderate'])\n",
        "rule10 = ctrl.Rule(Fever['Minor'] & Headache['Minor']& Nausea['Moderate'] & Vomiting['Moderate'] & Jaundice['Minor'] & Enlarge_Liver['Moderate'] & Join_Pain['Minor'] \n",
        "                  & Body_Weakness['Minor'] & Dizziness['Minor'] & Loss_of_Appetite['Minor'] & MP['Minor'], Malaria['Minor'])\n",
        "rule11 = ctrl.Rule(Fever['Severe'] & Headache['Severe']& Nausea['Severe'] & Vomiting['Severe'] & Jaundice['Severe'] & Enlarge_Liver['Severe'] & Join_Pain['Severe'] \n",
        "                  & Body_Weakness['Very Severe'] & Dizziness['Severe'] & Loss_of_Appetite['Severe'] & MP['Moderate'], Malaria['Very Severe'])\n",
        "rule12 = ctrl.Rule(Fever['Moderate'] & Headache['Severe']& Nausea['Moderate'] & Vomiting['Severe'] & Jaundice['Moderate'] & Enlarge_Liver['Severe'] & Join_Pain['Moderate'] \n",
        "                  & Body_Weakness['Severe'] & Dizziness['Moderate'] & Loss_of_Appetite['Minor'] & MP['Moderate'], Malaria['Severe'])\n",
        "rule13 = ctrl.Rule(Fever['Minor'] & Headache['Moderate']& Nausea['Moderate'] & Vomiting['Moderate'] & Jaundice['Minor'] & Enlarge_Liver['Minor'] & Join_Pain['Minor'] \n",
        "                  & Body_Weakness['Moderate'] & Dizziness['Severe'] & Loss_of_Appetite['Severe'] & MP['Moderate'], Malaria['Moderate'])\n",
        "rule14 = ctrl.Rule(Fever['Severe'] & Headache['Severe']& Nausea['Moderate'] & Vomiting['Severe'] & Jaundice['Severe'] & Enlarge_Liver['Severe'] & Join_Pain['Severe'] \n",
        "                  & Body_Weakness['Severe'] & Dizziness['Severe'] & Loss_of_Appetite['Moderate'] & MP['Severe'], Malaria['Severe'])\n",
        "rule15 = ctrl.Rule(Fever['Minor'] & Headache['Minor']& Nausea['Minor'] & Vomiting['Moderate'] & Jaundice['Minor'] & Enlarge_Liver['Minor'] & Join_Pain['Minor'] \n",
        "                  & Body_Weakness['Severe'] & Dizziness['Minor'] & Loss_of_Appetite['Severe'] & MP['Moderate'], Malaria['Severe'])\n",
        "rule16 = ctrl.Rule(Fever['Very Severe'] & Headache['Moderate']& Nausea['Minor'] & Vomiting['Moderate'] & Jaundice['Severe'] & Enlarge_Liver['Moderate'] & Join_Pain['Minor'] \n",
        "                  & Body_Weakness['Very Severe'] & Dizziness['Severe'] & Loss_of_Appetite['Minor'] & MP['Moderate'], Malaria['Very Severe'])\n",
        "rule17 = ctrl.Rule(Fever['Minor'] & Headache['Very Severe']& Nausea['Moderate'] & Vomiting['Moderate'] & Jaundice['Minor'] & Enlarge_Liver['Moderate'] & Join_Pain['Minor'] \n",
        "                  & Body_Weakness['Moderate'] & Dizziness['Very Severe'] & Loss_of_Appetite['Minor'] & MP['Moderate'], Malaria['Very Severe'])\n",
        "rule18 = ctrl.Rule(Fever['Moderate'] & Headache['Very Severe']& Nausea['Very Severe'] & Vomiting['Minor'] & Jaundice['Severe'] & Enlarge_Liver['Severe'] & Join_Pain['Moderate'] \n",
        "                  & Body_Weakness['Severe'] & Dizziness['Very Severe'] & Loss_of_Appetite['Very Severe'] & MP['Severe'], Malaria['Very Severe'])\n",
        "rule19 = ctrl.Rule(Fever['Moderate'] & Headache['Moderate']& Nausea['Moderate'] & Vomiting['Moderate'] & Jaundice['Minor'] & Enlarge_Liver['Minor'] & Join_Pain['Moderate'] \n",
        "                  & Body_Weakness['Moderate'] & Dizziness['Moderate'] & Loss_of_Appetite['Moderate'] & MP['Moderate'], Malaria['Moderate'])\n",
        "rule20 = ctrl.Rule(Fever['Moderate'] & Headache['Minor']& Nausea['Minor'] & Vomiting['Minor'] & Jaundice['Minor'] & Enlarge_Liver['Minor'] & Join_Pain['Moderate'] \n",
        "                  & Body_Weakness['Moderate'] & Dizziness['Severe'] & Loss_of_Appetite['Severe'] & MP['Moderate'], Malaria['Moderate'])\n",
        "\n",
        "MalariaC_ctrl = ctrl.ControlSystem([rule1,rule2,rule3,rule4,rule5,rule6,rule7,rule8,rule9,rule10,\n",
        "                                 rule11,rule12,rule13,rule14,rule15,rule16,rule17,rule18,rule19,rule20])\n",
        "\n",
        "MalariaC = ctrl.ControlSystemSimulation(MalariaC_ctrl)\n",
        "\n",
        "MalariaC.input['Fever'] = 0.1\n",
        "MalariaC.input['Headache'] = 0.8\n",
        "MalariaC.input['Nausea'] = 0.4\n",
        "MalariaC.input['Vomiting'] = 0.5\n",
        "MalariaC.input['Jaundice'] = 0.2\n",
        "MalariaC.input['Enlarge Liver'] = 0.15\n",
        "MalariaC.input['Join Pain'] = 0.5\n",
        "MalariaC.input['Body Weakness'] = 0.3\n",
        "MalariaC.input['Dizziness'] = 0.4\n",
        "MalariaC.input['Loss of Appetite'] = 0.9\n",
        "MalariaC.input['MP'] = 0.25\n",
        "\n",
        "MalariaC.compute()\n",
        "\n",
        "print(MalariaC.output['Malaria'])\n",
        "Malaria.view(sim = MalariaC)"
      ],
      "metadata": {
        "colab": {
          "base_uri": "https://localhost:8080/",
          "height": 298
        },
        "id": "YOjlKNoH_eJU",
        "outputId": "2372aa7e-081f-48ba-a8c6-c61ac481f292"
      },
      "execution_count": 57,
      "outputs": [
        {
          "output_type": "stream",
          "name": "stdout",
          "text": [
            "0.9065079365079365\n"
          ]
        },
        {
          "output_type": "display_data",
          "data": {
            "text/plain": [
              "<Figure size 432x288 with 1 Axes>"
            ],
            "image/png": "[encoded data removed]"
          },
          "metadata": {
            "needs_background": "light"
          }
        }
      ]
    }
  ]
}