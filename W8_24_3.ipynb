{
  "nbformat": 4,
  "nbformat_minor": 0,
  "metadata": {
    "colab": {
      "provenance": [],
      "authorship_tag": "ABX9TyOBlEo9d4DAZWJCkyFqB0On",
      "include_colab_link": true
    },
    "kernelspec": {
      "name": "python3",
      "display_name": "Python 3"
    },
    "language_info": {
      "name": "python"
    }
  },
  "cells": [
    {
      "cell_type": "markdown",
      "metadata": {
        "id": "view-in-github",
        "colab_type": "text"
      },
      "source": [
        "<a href=\"https://colab.research.google.com/github/tranquocdienspkt/AIspkt/blob/main/W8_24_3.ipynb\" target=\"_parent\"><img src=\"https://colab.research.google.com/assets/colab-badge.svg\" alt=\"Open In Colab\"/></a>"
      ]
    },
    {
      "cell_type": "code",
      "execution_count": 69,
      "metadata": {
        "id": "2welD7xs9urf"
      },
      "outputs": [],
      "source": [
        "from sklearn import linear_model\n",
        "from sklearn import datasets\n",
        "from sklearn.linear_model import Perceptron\n",
        "from sklearn.model_selection import train_test_split\n",
        "from sklearn.metrics import accuracy_score\n",
        "from sklearn.preprocessing import StandardScaler\n",
        "import pandas as pd"
      ]
    },
    {
      "cell_type": "code",
      "source": [
        "x = [[0,0],[1,0],[0,1],[1,1]]\n",
        "y = [0,1,1,1]\n",
        "\n",
        "model = Perceptron()\n",
        "\n",
        "model.fit(x,y)\n",
        "model.score(x,y)\n",
        "\n",
        "x1 = [[0.5,0],[0,0.5],[0.6,0],[0.51,0],[0,0.51],[10,-2],[-0.2,1]]\n",
        "\n",
        "y1 = model.predict(x1)\n",
        "model.score(x1,y1)"
      ],
      "metadata": {
        "colab": {
          "base_uri": "https://localhost:8080/"
        },
        "id": "0mZEZYwt-9D3",
        "outputId": "dc7af67b-ceee-4669-d3a2-571512ef2998"
      },
      "execution_count": 17,
      "outputs": [
        {
          "output_type": "execute_result",
          "data": {
            "text/plain": [
              "1.0"
            ]
          },
          "metadata": {},
          "execution_count": 17
        }
      ]
    },
    {
      "cell_type": "code",
      "source": [
        "x2 = [[-0.5,-0.5],[-0.5,0.5],[0.3,-0.5],[-0.1,1]]\n",
        "y2 = [1,1,0,0]\n",
        "\n",
        "model1 = Perceptron()\n",
        "model1.fit(x2,y2)\n",
        "model1.score(x2,y2)\n",
        "\n"
      ],
      "metadata": {
        "colab": {
          "base_uri": "https://localhost:8080/"
        },
        "id": "gJYitX9_CX_Y",
        "outputId": "d163d31c-d05e-4dbd-9670-b31a479abe78"
      },
      "execution_count": 18,
      "outputs": [
        {
          "output_type": "execute_result",
          "data": {
            "text/plain": [
              "1.0"
            ]
          },
          "metadata": {},
          "execution_count": 18
        }
      ]
    },
    {
      "cell_type": "code",
      "source": [
        "iris = datasets.load_iris()\n",
        "x = iris.data\n",
        "y = iris.target\n",
        "\n",
        "x_train, x_test, y_train, y_test = train_test_split(x, y, test_size=0.3)\n",
        "\n",
        "sc = StandardScaler()\n",
        "sc.fit(x_train)\n",
        "x_train_std = sc.transform(x_train)\n",
        "x_test_std = sc.transform(x_test)\n",
        "\n",
        "model = Perceptron(max_iter = 40, eta0 = 0.1, random_state = 0)\n",
        "model.fit(x_train, y_train)\n",
        "y_pred = model.predict(x_test)\n",
        "print(y_test)\n",
        "print(y_pred)\n",
        "print(\"Do chinh xac khi chua STD:\", accuracy_score(y_test,y_pred))\n",
        "\n",
        "model = Perceptron(max_iter = 40, eta0 = 0.1, random_state = 0)\n",
        "model.fit(x_train_std, y_train)\n",
        "y_pred = model.predict(x_test_std)\n",
        "print(y_test)\n",
        "print(y_pred)\n",
        "\n",
        "print(\"Do chinh xac da STD:\", accuracy_score(y_test,y_pred))"
      ],
      "metadata": {
        "colab": {
          "base_uri": "https://localhost:8080/"
        },
        "id": "q_TFwoZmDXDz",
        "outputId": "07b56e9a-d8d0-48d0-bb87-f90081c07a15"
      },
      "execution_count": 67,
      "outputs": [
        {
          "output_type": "stream",
          "name": "stdout",
          "text": [
            "[2 0 0 2 2 2 0 2 0 0 2 1 2 2 1 2 0 0 0 1 2 1 2 1 0 2 2 0 1 1 0 0 0 1 0 2 2\n",
            " 2 2 1 0 1 0 1 0]\n",
            "[1 0 0 2 2 2 0 2 0 0 1 1 1 2 1 2 0 0 0 1 2 1 2 1 0 2 1 0 1 1 0 0 0 1 0 1 2\n",
            " 2 2 1 0 1 0 1 0]\n",
            "Do chinh xac khi chua STD: 0.8888888888888888\n",
            "[2 0 0 2 2 2 0 2 0 0 2 1 2 2 1 2 0 0 0 1 2 1 2 1 0 2 2 0 1 1 0 0 0 1 0 2 2\n",
            " 2 2 1 0 1 0 1 0]\n",
            "[2 0 0 2 2 2 0 2 0 0 2 1 1 2 1 2 0 0 0 1 2 1 2 1 0 2 2 0 1 1 0 0 0 1 0 1 2\n",
            " 2 2 1 0 1 0 1 1]\n",
            "Do chinh xac da STD: 0.9333333333333333\n"
          ]
        }
      ]
    },
    {
      "cell_type": "code",
      "source": [
        "url = 'lung_cancer_examples.csv'\n",
        "data = pd.read_csv(url)\n",
        "\n",
        "x = data.loc[:,['AreaQ','Smokes','Alkhol']]\n",
        "y = data['Result']\n",
        "\n",
        "x_train, x_test, y_train, y_test = train_test_split(x, y, test_size=0.3)\n",
        "\n",
        "sc = StandardScaler()\n",
        "sc.fit(x_train)\n",
        "x_train_std = sc.transform(x_train)\n",
        "x_test_std = sc.transform(x_test)\n",
        "\n",
        "model = Perceptron(max_iter = 40, eta0 = 0.1, random_state = 0)\n",
        "\n",
        "model.fit(x_train, y_train)\n",
        "y_pred = model.predict(x_test)\n",
        "print(pd.DataFrame(y_test).T)\n",
        "print(y_pred)\n",
        "print(\"Do chinh xac khi chua STD:\", accuracy_score(y_test,y_pred))\n",
        "\n",
        "model = Perceptron(max_iter = 40, eta0 = 0.1, random_state = 0)\n",
        "model.fit(x_train_std, y_train)\n",
        "y_pred = model.predict(x_test_std)\n",
        "print(pd.DataFrame(y_test).T)\n",
        "print(y_pred)\n",
        "\n",
        "print(\"Do chinh xac da STD:\", accuracy_score(y_test,y_pred))"
      ],
      "metadata": {
        "colab": {
          "base_uri": "https://localhost:8080/"
        },
        "id": "PTSDr7xkMv7z",
        "outputId": "281a8658-2225-40fb-a004-4b0012e7f7f2"
      },
      "execution_count": 145,
      "outputs": [
        {
          "output_type": "stream",
          "name": "stdout",
          "text": [
            "        14  19  0   9   32  38  15  37  26  12  40  46  45  31  5   49  7   48\n",
            "Result   1   1   1   1   1   0   0   1   0   0   1   0   0   1   0   1   0   1\n",
            "[1 0 0 1 1 0 0 1 0 0 1 0 0 1 0 1 0 0]\n",
            "Do chinh xac khi chua STD: 0.8333333333333334\n",
            "        14  19  0   9   32  38  15  37  26  12  40  46  45  31  5   49  7   48\n",
            "Result   1   1   1   1   1   0   0   1   0   0   1   0   0   1   0   1   0   1\n",
            "[1 1 1 1 1 0 0 1 0 0 1 0 0 1 0 1 0 0]\n",
            "Do chinh xac da STD: 0.9444444444444444\n"
          ]
        }
      ]
    },
    {
      "cell_type": "code",
      "source": [
        "url = 'pima-indians-diabetes.csv'\n",
        "data = pd.read_csv(url)\n",
        "\n",
        "x = data.loc[:,['33.6','148','72','0.627']]\n",
        "y = data['1']\n",
        "\n",
        "x_train, x_test, y_train, y_test = train_test_split(x, y, test_size=0.3)\n",
        "\n",
        "sc = StandardScaler()\n",
        "sc.fit(x_train)\n",
        "x_train_std = sc.transform(x_train)\n",
        "x_test_std = sc.transform(x_test)\n",
        "\n",
        "model = Perceptron(max_iter = 40, eta0 = 0.1, random_state = 0)\n",
        "\n",
        "model.fit(x_train, y_train)\n",
        "y_pred = model.predict(x_test)\n",
        "print(pd.DataFrame(y_test))\n",
        "print(y_pred)\n",
        "print(\"Do chinh xac khi chua STD:\", accuracy_score(y_test,y_pred))\n",
        "\n",
        "model = Perceptron(max_iter = 40, eta0 = 0.1, random_state = 0)\n",
        "model.fit(x_train_std, y_train)\n",
        "y_pred = model.predict(x_test_std)\n",
        "print(pd.DataFrame(y_test).T)\n",
        "print(y_pred)\n",
        "\n",
        "print(\"Do chinh xac da STD:\", accuracy_score(y_test,y_pred))"
      ],
      "metadata": {
        "colab": {
          "base_uri": "https://localhost:8080/"
        },
        "id": "LEbLzUj4RpJj",
        "outputId": "90298ba6-6d4b-4343-e30d-261c1a09dc09"
      },
      "execution_count": 171,
      "outputs": [
        {
          "output_type": "stream",
          "name": "stdout",
          "text": [
            "     1\n",
            "212  1\n",
            "400  0\n",
            "63   1\n",
            "380  0\n",
            "514  1\n",
            "..  ..\n",
            "64   0\n",
            "642  0\n",
            "563  0\n",
            "574  0\n",
            "200  0\n",
            "\n",
            "[231 rows x 1 columns]\n",
            "[1 1 1 1 1 1 1 1 1 1 1 1 1 1 0 0 1 1 1 1 1 1 1 1 1 1 1 1 1 1 0 1 1 1 1 1 1\n",
            " 1 0 1 1 1 1 1 1 1 1 1 1 1 1 1 0 1 1 0 1 1 1 1 1 1 0 1 0 1 1 1 1 1 0 1 1 1\n",
            " 1 1 1 1 1 1 1 1 0 0 1 1 1 1 0 0 1 1 1 1 1 0 1 0 0 1 1 1 1 1 1 1 1 1 1 1 0\n",
            " 1 1 1 1 1 1 1 0 1 1 0 0 1 1 1 1 1 1 0 1 0 1 1 1 0 1 1 0 1 1 0 0 1 1 1 0 1\n",
            " 1 1 1 1 0 0 1 1 0 0 1 1 1 1 1 1 1 1 1 0 1 1 1 1 1 1 0 0 1 1 0 1 1 0 1 1 1\n",
            " 1 1 0 0 1 1 1 1 1 1 1 1 0 1 1 1 1 1 1 0 1 0 1 1 1 0 1 1 0 1 1 1 1 1 1 1 1\n",
            " 1 0 1 1 0 1 0 1 1]\n",
            "Do chinh xac khi chua STD: 0.5021645021645021\n",
            "   212  400  63   380  514  342  10   523  699  410  ...  605  16   353  333  \\\n",
            "1    1    0    1    0    1    0    1    0    0    0  ...    1    1    0    0   \n",
            "\n",
            "   160  64   642  563  574  200  \n",
            "1    0    0    0    0    0    0  \n",
            "\n",
            "[1 rows x 231 columns]\n",
            "[1 1 0 0 1 1 1 0 0 0 1 1 0 0 0 0 0 0 1 0 0 0 1 0 0 0 0 1 1 0 0 0 0 0 0 0 0\n",
            " 0 0 0 1 1 1 0 0 1 1 0 0 0 0 0 0 1 0 0 1 0 1 0 1 1 0 1 0 1 0 0 0 1 1 0 1 1\n",
            " 0 1 1 0 1 0 1 0 0 0 0 1 0 1 0 0 0 0 0 0 1 0 0 0 0 1 1 1 1 0 0 1 0 0 1 1 0\n",
            " 0 0 1 1 1 0 0 0 1 0 0 0 1 1 0 0 1 1 0 1 0 0 0 1 0 0 1 0 0 1 0 0 1 1 0 0 1\n",
            " 0 0 1 1 0 0 1 0 0 0 0 1 0 0 0 1 0 0 1 0 0 1 0 0 0 0 0 0 1 0 0 1 1 0 1 0 0\n",
            " 1 1 0 0 0 0 1 0 0 1 1 1 0 1 0 0 1 1 0 0 1 0 0 0 1 0 0 0 0 0 1 0 0 0 0 0 1\n",
            " 0 0 0 0 0 0 0 0 1]\n",
            "Do chinh xac da STD: 0.7186147186147186\n"
          ]
        }
      ]
    }
  ]
}