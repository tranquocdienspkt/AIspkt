{
  "nbformat": 4,
  "nbformat_minor": 0,
  "metadata": {
    "colab": {
      "provenance": [],
      "mount_file_id": "1U3duEMH92OjCw7-0zk305JbPCc6iUge3",
      "authorship_tag": "ABX9TyPhnRHcbNP5K9oSDfaeCaVh",
      "include_colab_link": true
    },
    "kernelspec": {
      "name": "python3",
      "display_name": "Python 3"
    },
    "language_info": {
      "name": "python"
    },
    "accelerator": "GPU",
    "gpuClass": "standard"
  },
  "cells": [
    {
      "cell_type": "markdown",
      "metadata": {
        "id": "view-in-github",
        "colab_type": "text"
      },
      "source": [
        "<a href=\"https://colab.research.google.com/github/tranquocdienspkt/AIspkt/blob/main/CNN_chitay.ipynb\" target=\"_parent\"><img src=\"https://colab.research.google.com/assets/colab-badge.svg\" alt=\"Open In Colab\"/></a>"
      ]
    },
    {
      "cell_type": "code",
      "execution_count": 8,
      "metadata": {
        "colab": {
          "base_uri": "https://localhost:8080/"
        },
        "id": "tj6PzgSyviAn",
        "outputId": "4a0a7db4-3dfe-4ad2-ffc3-664a3a64cfed"
      },
      "outputs": [
        {
          "output_type": "stream",
          "name": "stdout",
          "text": [
            "(79, 120, 120, 3)\n",
            "(79, 9)\n"
          ]
        }
      ],
      "source": [
        "from keras.models import Sequential\n",
        "from keras.layers import Dense\n",
        "from keras.utils import  to_categorical\n",
        "from keras.utils import load_img, img_to_array\n",
        "\n",
        "import matplotlib.pyplot as plt\n",
        "from matplotlib.image import imread\n",
        "\n",
        "from os import listdir\n",
        "\n",
        "from numpy import asarray\n",
        "from numpy import save\n",
        "import numpy as np\n",
        "\n",
        "folder = '/content/drive/MyDrive/bai1.1/'\n",
        "photos, labels = list(), list()\n",
        "for afile in listdir(folder):\n",
        "  if afile.startswith(\"1vo\"):\n",
        "    output = 1.0\n",
        "  if afile.startswith(\"2vo\"):\n",
        "    output = 2.0\n",
        "  if afile.startswith(\"3vo\"):\n",
        "    output = 3.0\n",
        "  if afile.startswith(\"giau\"):\n",
        "    output = 4.0\n",
        "  if afile.startswith(\"ngheo\"):\n",
        "    output = 5.0\n",
        "  if afile.startswith(\"songtho\"):\n",
        "    output = 6.0\n",
        "  if afile.startswith(\"sunghiepthuanloi\"):\n",
        "    output = 7.0\n",
        "  if afile.startswith(\"tinhduyenkhokhan\"):\n",
        "    output = 8.0\n",
        "  img = load_img(folder + afile, target_size=(120,120))\n",
        "  photo = img_to_array(img)\n",
        "  photos.append(photo)\n",
        "  labels.append(output)\n",
        "\n",
        "photos = asarray(photos)\n",
        "labels = asarray(labels)\n",
        "\n",
        "x_train = photos.reshape(79,120,120,3)\n",
        "x_train = x_train.astype('float32')/255\n",
        "\n",
        "y_train = to_categorical(labels,9)\n",
        "\n",
        "print(x_train.shape)\n",
        "print(y_train.shape)"
      ]
    },
    {
      "cell_type": "code",
      "source": [
        "from keras.models import Sequential, Model\n",
        "from keras.layers import Dense, Dropout, Flatten, Conv2D, MaxPooling2D, Normalization, LeakyReLU\n",
        "from keras.optimizers import Adam\n",
        "\n",
        "model = Sequential()\n",
        "\n",
        "model.add(Conv2D(32, kernel_size = (3,3), activation = 'relu', input_shape = (120,120,3), padding = 'same'))\n",
        "model.add(Dropout(0.25))\n",
        "model.add(MaxPooling2D((2,2), padding = 'same'))\n",
        "\n",
        "model.add(Conv2D(64,(3,3), activation='relu', padding= 'same'))\n",
        "model.add(Dropout(0.25))\n",
        "model.add(MaxPooling2D((2,2), padding = 'same'))\n",
        "\n",
        "\n",
        "model.add(Conv2D(128,(3,3), activation='relu', padding = 'same'))\n",
        "model.add(Dropout(0.25))\n",
        "model.add(MaxPooling2D((2,2), padding = 'same'))\n",
        "\n",
        "\n",
        "model.add(Flatten())\n",
        "model.add(Dense(128, activation='relu'))\n",
        "model.add(Dropout(0.25))\n",
        "model.add(Dense(9,activation='softmax'))\n",
        "\n",
        "model.summary()"
      ],
      "metadata": {
        "id": "7Wzv40hNv-cU",
        "colab": {
          "base_uri": "https://localhost:8080/"
        },
        "outputId": "74750517-20d2-4765-8d8a-29f3c5622d3c"
      },
      "execution_count": 9,
      "outputs": [
        {
          "output_type": "stream",
          "name": "stdout",
          "text": [
            "Model: \"sequential\"\n",
            "_________________________________________________________________\n",
            " Layer (type)                Output Shape              Param #   \n",
            "=================================================================\n",
            " conv2d (Conv2D)             (None, 120, 120, 32)      896       \n",
            "                                                                 \n",
            " dropout (Dropout)           (None, 120, 120, 32)      0         \n",
            "                                                                 \n",
            " max_pooling2d (MaxPooling2D  (None, 60, 60, 32)       0         \n",
            " )                                                               \n",
            "                                                                 \n",
            " conv2d_1 (Conv2D)           (None, 60, 60, 64)        18496     \n",
            "                                                                 \n",
            " dropout_1 (Dropout)         (None, 60, 60, 64)        0         \n",
            "                                                                 \n",
            " max_pooling2d_1 (MaxPooling  (None, 30, 30, 64)       0         \n",
            " 2D)                                                             \n",
            "                                                                 \n",
            " conv2d_2 (Conv2D)           (None, 30, 30, 128)       73856     \n",
            "                                                                 \n",
            " dropout_2 (Dropout)         (None, 30, 30, 128)       0         \n",
            "                                                                 \n",
            " max_pooling2d_2 (MaxPooling  (None, 15, 15, 128)      0         \n",
            " 2D)                                                             \n",
            "                                                                 \n",
            " flatten (Flatten)           (None, 28800)             0         \n",
            "                                                                 \n",
            " dense (Dense)               (None, 128)               3686528   \n",
            "                                                                 \n",
            " dropout_3 (Dropout)         (None, 128)               0         \n",
            "                                                                 \n",
            " dense_1 (Dense)             (None, 9)                 1161      \n",
            "                                                                 \n",
            "=================================================================\n",
            "Total params: 3,780,937\n",
            "Trainable params: 3,780,937\n",
            "Non-trainable params: 0\n",
            "_________________________________________________________________\n"
          ]
        }
      ]
    },
    {
      "cell_type": "code",
      "source": [
        "from keras.losses import categorical_crossentropy\n",
        "\n",
        "model.compile(loss = 'categorical_crossentropy', optimizer = 'adam', metrics = ['accuracy'])"
      ],
      "metadata": {
        "id": "p3NAchy-v_xh"
      },
      "execution_count": 10,
      "outputs": []
    },
    {
      "cell_type": "code",
      "source": [
        "model.fit(x_train, y_train, epochs = 20, batch_size = 64)"
      ],
      "metadata": {
        "id": "u5uqUzwRwA_P",
        "colab": {
          "base_uri": "https://localhost:8080/"
        },
        "outputId": "54903e0d-4200-4224-c4a0-b177746b1eb7"
      },
      "execution_count": 16,
      "outputs": [
        {
          "output_type": "stream",
          "name": "stdout",
          "text": [
            "Epoch 1/20\n",
            "2/2 [==============================] - 0s 23ms/step - loss: 0.0544 - accuracy: 0.9747\n",
            "Epoch 2/20\n",
            "2/2 [==============================] - 0s 24ms/step - loss: 0.0047 - accuracy: 1.0000\n",
            "Epoch 3/20\n",
            "2/2 [==============================] - 0s 20ms/step - loss: 0.0061 - accuracy: 1.0000\n",
            "Epoch 4/20\n",
            "2/2 [==============================] - 0s 18ms/step - loss: 0.0053 - accuracy: 1.0000\n",
            "Epoch 5/20\n",
            "2/2 [==============================] - 0s 19ms/step - loss: 0.0119 - accuracy: 1.0000\n",
            "Epoch 6/20\n",
            "2/2 [==============================] - 0s 18ms/step - loss: 0.0036 - accuracy: 1.0000\n",
            "Epoch 7/20\n",
            "2/2 [==============================] - 0s 19ms/step - loss: 0.0060 - accuracy: 1.0000\n",
            "Epoch 8/20\n",
            "2/2 [==============================] - 0s 17ms/step - loss: 0.0061 - accuracy: 1.0000\n",
            "Epoch 9/20\n",
            "2/2 [==============================] - 0s 17ms/step - loss: 0.0020 - accuracy: 1.0000\n",
            "Epoch 10/20\n",
            "2/2 [==============================] - 0s 18ms/step - loss: 0.0089 - accuracy: 1.0000\n",
            "Epoch 11/20\n",
            "2/2 [==============================] - 0s 18ms/step - loss: 0.0104 - accuracy: 0.9873\n",
            "Epoch 12/20\n",
            "2/2 [==============================] - 0s 18ms/step - loss: 0.0039 - accuracy: 1.0000\n",
            "Epoch 13/20\n",
            "2/2 [==============================] - 0s 20ms/step - loss: 0.0162 - accuracy: 1.0000\n",
            "Epoch 14/20\n",
            "2/2 [==============================] - 0s 18ms/step - loss: 0.0027 - accuracy: 1.0000\n",
            "Epoch 15/20\n",
            "2/2 [==============================] - 0s 17ms/step - loss: 0.0415 - accuracy: 0.9873\n",
            "Epoch 16/20\n",
            "2/2 [==============================] - 0s 19ms/step - loss: 0.0088 - accuracy: 1.0000\n",
            "Epoch 17/20\n",
            "2/2 [==============================] - 0s 17ms/step - loss: 0.0157 - accuracy: 1.0000\n",
            "Epoch 18/20\n",
            "2/2 [==============================] - 0s 18ms/step - loss: 0.0168 - accuracy: 1.0000\n",
            "Epoch 19/20\n",
            "2/2 [==============================] - 0s 17ms/step - loss: 0.0358 - accuracy: 1.0000\n",
            "Epoch 20/20\n",
            "2/2 [==============================] - 0s 17ms/step - loss: 0.0318 - accuracy: 0.9873\n"
          ]
        },
        {
          "output_type": "execute_result",
          "data": {
            "text/plain": [
              "<keras.callbacks.History at 0x7ff4901a05b0>"
            ]
          },
          "metadata": {},
          "execution_count": 16
        }
      ]
    },
    {
      "cell_type": "code",
      "source": [
        "img_url = '/content/drive/MyDrive/bai1.1/giau.jpg'\n",
        "img = plt.imread(img_url)\n",
        "plt.imshow(img)\n",
        "plt.show()\n",
        "\n",
        "x_test = []\n",
        "\n",
        "img_test = load_img(img_url, target_size=(120,120))\n",
        "img_test = img_to_array(img_test)\n",
        "x_test.append(img_test)\n",
        "\n",
        "x_test = asarray(x_test)\n",
        "\n",
        "x_test = x_test.reshape(1,120,120,3)\n",
        "x_test = x_test.astype('float32')/255\n",
        "\n",
        "np.argmax(model.predict(x_test), axis = -1)"
      ],
      "metadata": {
        "id": "Dr8zCnx-wC8Z",
        "colab": {
          "base_uri": "https://localhost:8080/",
          "height": 466
        },
        "outputId": "679230db-f552-4724-a9bd-9de32a98b2ce"
      },
      "execution_count": 18,
      "outputs": [
        {
          "output_type": "display_data",
          "data": {
            "text/plain": [
              "<Figure size 640x480 with 1 Axes>"
            ],
            "image/png": "[encoded data removed]"
          },
          "metadata": {}
        },
        {
          "output_type": "stream",
          "name": "stdout",
          "text": [
            "1/1 [==============================] - 0s 96ms/step\n"
          ]
        },
        {
          "output_type": "execute_result",
          "data": {
            "text/plain": [
              "array([4])"
            ]
          },
          "metadata": {},
          "execution_count": 18
        }
      ]
    }
  ]
}